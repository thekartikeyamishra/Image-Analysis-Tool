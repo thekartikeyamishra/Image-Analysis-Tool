{
  "nbformat": 4,
  "nbformat_minor": 0,
  "metadata": {
    "colab": {
      "provenance": []
    },
    "kernelspec": {
      "name": "python3",
      "display_name": "Python 3"
    },
    "language_info": {
      "name": "python"
    },
    "widgets": {
      "application/vnd.jupyter.widget-state+json": {
        "f84a1ce8098d4d3bb63f1626e528e4a2": {
          "model_module": "@jupyter-widgets/controls",
          "model_name": "HTMLModel",
          "model_module_version": "1.5.0",
          "state": {
            "_dom_classes": [],
            "_model_module": "@jupyter-widgets/controls",
            "_model_module_version": "1.5.0",
            "_model_name": "HTMLModel",
            "_view_count": null,
            "_view_module": "@jupyter-widgets/controls",
            "_view_module_version": "1.5.0",
            "_view_name": "HTMLView",
            "description": "",
            "description_tooltip": null,
            "layout": "IPY_MODEL_bcac9bb7bce84a51949491be202d3476",
            "placeholder": "​",
            "style": "IPY_MODEL_02a3857ee93d4c11862a42be367db184",
            "value": "<h2>📂 Upload an Image for Analysis</h2>"
          }
        },
        "bcac9bb7bce84a51949491be202d3476": {
          "model_module": "@jupyter-widgets/base",
          "model_name": "LayoutModel",
          "model_module_version": "1.2.0",
          "state": {
            "_model_module": "@jupyter-widgets/base",
            "_model_module_version": "1.2.0",
            "_model_name": "LayoutModel",
            "_view_count": null,
            "_view_module": "@jupyter-widgets/base",
            "_view_module_version": "1.2.0",
            "_view_name": "LayoutView",
            "align_content": null,
            "align_items": null,
            "align_self": null,
            "border": null,
            "bottom": null,
            "display": null,
            "flex": null,
            "flex_flow": null,
            "grid_area": null,
            "grid_auto_columns": null,
            "grid_auto_flow": null,
            "grid_auto_rows": null,
            "grid_column": null,
            "grid_gap": null,
            "grid_row": null,
            "grid_template_areas": null,
            "grid_template_columns": null,
            "grid_template_rows": null,
            "height": null,
            "justify_content": null,
            "justify_items": null,
            "left": null,
            "margin": null,
            "max_height": null,
            "max_width": null,
            "min_height": null,
            "min_width": null,
            "object_fit": null,
            "object_position": null,
            "order": null,
            "overflow": null,
            "overflow_x": null,
            "overflow_y": null,
            "padding": null,
            "right": null,
            "top": null,
            "visibility": null,
            "width": null
          }
        },
        "02a3857ee93d4c11862a42be367db184": {
          "model_module": "@jupyter-widgets/controls",
          "model_name": "DescriptionStyleModel",
          "model_module_version": "1.5.0",
          "state": {
            "_model_module": "@jupyter-widgets/controls",
            "_model_module_version": "1.5.0",
            "_model_name": "DescriptionStyleModel",
            "_view_count": null,
            "_view_module": "@jupyter-widgets/base",
            "_view_module_version": "1.2.0",
            "_view_name": "StyleView",
            "description_width": ""
          }
        },
        "d94571d7c6b94467af7edb1167f6ac83": {
          "model_module": "@jupyter-widgets/controls",
          "model_name": "FileUploadModel",
          "model_module_version": "1.5.0",
          "state": {
            "_counter": 0,
            "_dom_classes": [],
            "_model_module": "@jupyter-widgets/controls",
            "_model_module_version": "1.5.0",
            "_model_name": "FileUploadModel",
            "_view_count": null,
            "_view_module": "@jupyter-widgets/controls",
            "_view_module_version": "1.5.0",
            "_view_name": "FileUploadView",
            "accept": "image/*",
            "button_style": "",
            "data": [],
            "description": "Upload",
            "description_tooltip": null,
            "disabled": false,
            "error": "",
            "icon": "upload",
            "layout": "IPY_MODEL_4e142432112e4ea5a3738f8d1c8acd48",
            "metadata": [],
            "multiple": false,
            "style": "IPY_MODEL_e9621f043a194008b4e7060778b1302a"
          }
        },
        "4e142432112e4ea5a3738f8d1c8acd48": {
          "model_module": "@jupyter-widgets/base",
          "model_name": "LayoutModel",
          "model_module_version": "1.2.0",
          "state": {
            "_model_module": "@jupyter-widgets/base",
            "_model_module_version": "1.2.0",
            "_model_name": "LayoutModel",
            "_view_count": null,
            "_view_module": "@jupyter-widgets/base",
            "_view_module_version": "1.2.0",
            "_view_name": "LayoutView",
            "align_content": null,
            "align_items": null,
            "align_self": null,
            "border": null,
            "bottom": null,
            "display": null,
            "flex": null,
            "flex_flow": null,
            "grid_area": null,
            "grid_auto_columns": null,
            "grid_auto_flow": null,
            "grid_auto_rows": null,
            "grid_column": null,
            "grid_gap": null,
            "grid_row": null,
            "grid_template_areas": null,
            "grid_template_columns": null,
            "grid_template_rows": null,
            "height": null,
            "justify_content": null,
            "justify_items": null,
            "left": null,
            "margin": null,
            "max_height": null,
            "max_width": null,
            "min_height": null,
            "min_width": null,
            "object_fit": null,
            "object_position": null,
            "order": null,
            "overflow": null,
            "overflow_x": null,
            "overflow_y": null,
            "padding": null,
            "right": null,
            "top": null,
            "visibility": null,
            "width": null
          }
        },
        "e9621f043a194008b4e7060778b1302a": {
          "model_module": "@jupyter-widgets/controls",
          "model_name": "ButtonStyleModel",
          "model_module_version": "1.5.0",
          "state": {
            "_model_module": "@jupyter-widgets/controls",
            "_model_module_version": "1.5.0",
            "_model_name": "ButtonStyleModel",
            "_view_count": null,
            "_view_module": "@jupyter-widgets/base",
            "_view_module_version": "1.2.0",
            "_view_name": "StyleView",
            "button_color": null,
            "font_weight": ""
          }
        }
      }
    }
  },
  "cells": [
    {
      "cell_type": "code",
      "source": [
        "\n",
        "import cv2\n",
        "import numpy as np\n",
        "from PIL import Image\n",
        "import matplotlib.pyplot as plt\n",
        "from ipywidgets import widgets\n",
        "from IPython.display import display, clear_output\n",
        "\n",
        "def upload_image():\n",
        "    upload_widget = widgets.FileUpload(accept='image/*', multiple=False)\n",
        "    display(upload_widget)\n",
        "\n",
        "    def on_upload_change(change):\n",
        "        clear_output(wait=True)\n",
        "        for filename, fileinfo in upload_widget.value.items():\n",
        "            image_data = np.frombuffer(fileinfo['content'], np.uint8)\n",
        "            image = cv2.imdecode(image_data, cv2.IMREAD_COLOR)\n",
        "\n",
        "            image_rgb = cv2.cvtColor(image, cv2.COLOR_BGR2RGB)\n",
        "\n",
        "            display_image(image_rgb)\n",
        "            analyze_image(image_rgb)\n",
        "\n",
        "    upload_widget.observe(on_upload_change, names='value')\n",
        "\n",
        "def display_image(image):\n",
        "    plt.figure(figsize=(6, 6))\n",
        "    plt.imshow(image)\n",
        "    plt.axis('off')\n",
        "    plt.title(\"Uploaded Image\")\n",
        "    plt.show()\n",
        "\n",
        "def analyze_image(image):\n",
        "    print(f\"📏 **Image Dimensions:** {image.shape[0]}x{image.shape[1]} (Height x Width)\")\n",
        "    print(f\"📊 **Number of Color Channels:** {image.shape[2]}\")\n",
        "    print(f\"🖼️ **Total Pixels:** {image.size}\")\n",
        "\n",
        "    colors = ('Red', 'Green', 'Blue')\n",
        "    plt.figure(figsize=(10, 5))\n",
        "    for i, color in enumerate(colors):\n",
        "        hist = cv2.calcHist([image], [i], None, [256], [0, 256])\n",
        "        plt.plot(hist, color=color.lower(), label=f\"{color} Channel\")\n",
        "    plt.title(\"Color Histogram\")\n",
        "    plt.xlabel(\"Pixel Intensity\")\n",
        "    plt.ylabel(\"Frequency\")\n",
        "    plt.legend()\n",
        "    plt.show()\n",
        "\n",
        "    gray_image = cv2.cvtColor(image, cv2.COLOR_RGB2GRAY)\n",
        "    avg_intensity = np.mean(gray_image)\n",
        "    print(f\"🔅 **Average Intensity (Grayscale):** {avg_intensity:.2f}\")\n",
        "\n",
        "    edges = cv2.Canny(gray_image, 100, 200)\n",
        "    plt.figure(figsize=(6, 6))\n",
        "    plt.imshow(edges, cmap='gray')\n",
        "    plt.axis('off')\n",
        "    plt.title(\"Edge Detection (Canny)\")\n",
        "    plt.show()\n",
        "\n",
        "display(widgets.HTML(\"<h2>📂 Upload an Image for Analysis</h2>\"))\n",
        "upload_image()\n"
      ],
      "metadata": {
        "colab": {
          "base_uri": "https://localhost:8080/",
          "height": 101,
          "referenced_widgets": [
            "f84a1ce8098d4d3bb63f1626e528e4a2",
            "bcac9bb7bce84a51949491be202d3476",
            "02a3857ee93d4c11862a42be367db184",
            "d94571d7c6b94467af7edb1167f6ac83",
            "4e142432112e4ea5a3738f8d1c8acd48",
            "e9621f043a194008b4e7060778b1302a"
          ]
        },
        "id": "5cONOgdyMcQ3",
        "outputId": "863af663-9e08-4537-83c5-2d857069a430"
      },
      "execution_count": 3,
      "outputs": [
        {
          "output_type": "display_data",
          "data": {
            "text/plain": [
              "HTML(value='<h2>📂 Upload an Image for Analysis</h2>')"
            ],
            "application/vnd.jupyter.widget-view+json": {
              "version_major": 2,
              "version_minor": 0,
              "model_id": "f84a1ce8098d4d3bb63f1626e528e4a2"
            }
          },
          "metadata": {}
        },
        {
          "output_type": "display_data",
          "data": {
            "text/plain": [
              "FileUpload(value={}, accept='image/*', description='Upload')"
            ],
            "application/vnd.jupyter.widget-view+json": {
              "version_major": 2,
              "version_minor": 0,
              "model_id": "d94571d7c6b94467af7edb1167f6ac83"
            }
          },
          "metadata": {}
        }
      ]
    },
    {
      "cell_type": "code",
      "source": [],
      "metadata": {
        "id": "Cu97fzSPMoZA"
      },
      "execution_count": null,
      "outputs": []
    }
  ]
}